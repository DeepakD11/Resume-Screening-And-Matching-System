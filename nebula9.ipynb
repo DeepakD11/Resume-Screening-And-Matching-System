{
  "cells": [
    {
      "cell_type": "markdown",
      "metadata": {},
      "source": [
        "### **Methodology**\n",
        "\n",
        "When I was given the task, I researched about the work on the approaches of the project.\n",
        "This can be acheived by the below steps process.\n",
        "1. Unstructured to Structured Data Conversion:\n",
        "   Resumes, often in formats like PDF or DOCX, contain unstructured data. The initial challenge was to transform this unstructured content into a structured format like JSON.\n",
        "\n",
        "2. Text Extraction: Firstly using PyPDF2, docx libraries , extracted the text from the resumes.but in a unstructured form.\n",
        "3. Leveraging Generative AI (Llama3):\n",
        "   Used Gen AI(Llama3) model to extract the structured data which also includes prompt engineering.\n",
        "4. Job Description Processing:\n",
        "   Similarly done to the job description.\n",
        "5. Storage of Extracted Data:\n",
        "   Stored the extracted json from resume and job description in seperate files.\n",
        "6. NLP-based Similarity Check:\n",
        "   Used NLP process (spaCy model) to check the similarity between the two json files.\n",
        "7. Ranking:\n",
        "   Rank them according to the spaCy similarity scores. \n",
        "8. Reinforcement Learning:'\n",
        "   Q-learning-based reinforcement learning approach for feedback mechanism"
      ]
    },
    {
      "cell_type": "markdown",
      "metadata": {},
      "source": [
        "<img src=\"flow_chart_nebula.png\" alt=\"Flow Chart\" width=\"300\" height=\"500\" />\n"
      ]
    },
    {
      "cell_type": "markdown",
      "metadata": {},
      "source": []
    },
    {
      "cell_type": "markdown",
      "metadata": {
        "id": "Z3vcsQ5h6r1L"
      },
      "source": [
        "### **Importing necessary libraries**"
      ]
    },
    {
      "cell_type": "code",
      "execution_count": 1,
      "metadata": {
        "id": "lBfS-yAz6r1O"
      },
      "outputs": [],
      "source": [
        "from groq import Groq\n",
        "from PyPDF2 import PdfReader\n",
        "from docx import Document\n",
        "import re\n",
        "import spacy\n",
        "import json\n",
        "import pandas as pd"
      ]
    },
    {
      "cell_type": "markdown",
      "metadata": {
        "id": "eCLH5yC46tZy"
      },
      "source": [
        "the process of generating api_key given in the README file"
      ]
    },
    {
      "cell_type": "code",
      "execution_count": 2,
      "metadata": {
        "id": "C4niE68I6r1Q"
      },
      "outputs": [],
      "source": [
        "api_key = \"paste_your_api_key\"\n",
        "client = Groq(api_key=api_key)"
      ]
    },
    {
      "cell_type": "markdown",
      "metadata": {
        "id": "EUQIpSvx6r1Q"
      },
      "source": [
        "### **Text Extraction**"
      ]
    },
    {
      "cell_type": "code",
      "execution_count": 3,
      "metadata": {
        "id": "JPW_7F-s6r1R"
      },
      "outputs": [],
      "source": [
        "def extract_from_pdf(file):\n",
        "    pdf_text = \"\"\n",
        "    pdf_reader = PdfReader(file)\n",
        "    for page in pdf_reader.pages:\n",
        "        pdf_text += page.extract_text()\n",
        "    return pdf_text"
      ]
    },
    {
      "cell_type": "code",
      "execution_count": 22,
      "metadata": {
        "id": "7OsSv9a46r1R",
        "outputId": "aa357f87-cab5-4ba4-a476-80c23406c06f"
      },
      "outputs": [
        {
          "data": {
            "text/plain": [
              "'C H A R L E S  M C T U R L A N D\\nS O F T W A R E  E N G I N E E R\\nC O N T A C T\\ncmcturland@email.com\\n(123) 456-7890\\nNew York, NY\\nLinkedIn\\nE D U C A T I O N\\nB.S.\\nComputer Science\\nUniversity of Pittsburgh\\nSeptember 2008 - April 2012\\nPittsburgh, PA\\nS K I L L S\\nPython (Django)\\nJavascript (NodeJS ReactJS,\\njQuery)\\nSQL (MySQL, PostgreSQL,\\nNoSQL)\\nHTML5/CSS\\nAWS\\nUnix, GitW O R K  E X P E R I E N C E\\nSoftware Engineer\\nEmbark\\nJanuary 2015 - current/New York, NY\\nWorked with product managers to re-architect a multi-page web\\napp into a single page web-app, boosting yearly revenue by $1.4M\\nConstructed the logic for a streamlined ad-serving platform that\\nscaled to our 35M users, which improved the page speed by 15%\\nafter implementation\\nTested software for bugs and operating speed, ﬁxing bugs and\\ndocumenting processes to increase efﬁciency by 18%\\nIterated platform for college admissions, collaborating with a group\\nof 4 engineers to create features across the software\\nSoftware Engineer\\nMarketSmart\\nApril 2012 - January 2015/Washington, DC\\nBuilt RESTful APIs that served data to the JavaScript front-end\\nbased on dynamically chosen user inputs that handled over 500,000\\nconcurrent users\\nBuilt internal tool using NodeJS and Pupeteer.js to automate QA and\\nmonitoring of donor-facing web app, which improved CTR by 3%\\nReviewed code and conducted testing for 3 additional features on\\ndonor-facing web app that increased contributions by 12%\\nSoftware Engineer Intern\\nMarketing Science Company\\nApril 2011 - March 2012/Pittsburgh, PA\\nPartnered with a developer to implement RESTful APIs in Django,\\nenabling analytics team to increase reporting speed by 24%\\nUsing Selenium I built out a unit testing infrastructure for a client\\napplication that reduced the number of bugs reported by the client\\nby 11% month over month\\nP R O J E C T S\\nPoker Simulation\\nBuilt a full-stack web app to allow users to simulate and visualize\\noutcomes of poker hands against opponents of different play styles\\nusing open source cards.js on the front-end\\nUtilized sci-kit learn in Python to simulate possible outcomes under\\ndifferent scenarios that the user chose'"
            ]
          },
          "execution_count": 22,
          "metadata": {},
          "output_type": "execute_result"
        }
      ],
      "source": [
        "extract_from_pdf(\"sample_resumes/software-engineer-resume-example.pdf\")"
      ]
    },
    {
      "cell_type": "code",
      "execution_count": 5,
      "metadata": {
        "id": "LQYJmqAy6r1S"
      },
      "outputs": [],
      "source": [
        "def extract_from_doc(file):\n",
        "    doc = Document(file)\n",
        "    doc_text = \"\"\n",
        "    for paragraph in doc.paragraphs:\n",
        "        doc_text += paragraph.text + \"\\n\"\n",
        "    return doc_text"
      ]
    },
    {
      "cell_type": "code",
      "execution_count": 7,
      "metadata": {
        "id": "uFTLohV36r1T",
        "outputId": "47ccec00-1763-4f27-bc1a-d281e086ed0f"
      },
      "outputs": [
        {
          "data": {
            "text/plain": [
              "'David Lee\\ndavidlee@example.com\\n\\nExperience:\\n- Graphic Designer at CreativeStudio (2019 - Present)\\n  - Designed marketing materials, including brochures, flyers, and social media graphics.\\n  - Collaborated with clients to understand their design needs.\\n  - Created logos and branding materials.\\n\\nEducation:\\n- Bachelor of Fine Arts in Graphic Design, Art Institute (2015 - 2019)\\n\\nSkills:\\n- Tools: Adobe Photoshop, Illustrator, InDesign\\n- Design: Branding, Print Design, Digital Design\\n'"
            ]
          },
          "execution_count": 7,
          "metadata": {},
          "output_type": "execute_result"
        }
      ],
      "source": [
        "extract_from_doc(\"graphic.docx\")"
      ]
    },
    {
      "cell_type": "markdown",
      "metadata": {
        "id": "LX-q39Re7CvR"
      },
      "source": [
        "### **Prompt Engineering**"
      ]
    },
    {
      "cell_type": "code",
      "execution_count": 8,
      "metadata": {
        "id": "rywBJtGp6r1T"
      },
      "outputs": [],
      "source": [
        "def get_prompt():\n",
        "    return '''You are the HR of a company.Your task is to shortlist the resumes based on the required role description.Now extract the following details from the resume in the exact JSON format below.\n",
        "    Do not include any other text except the JSON. If a field is missing or unknown, use an empty string (\"\").\n",
        "\n",
        "    Expected JSON format:\n",
        "    {\n",
        "        \"Name\": \"\",\n",
        "        \"email_id\": \"\",\n",
        "        \"mob_number\": \"\",\n",
        "        \"qualification\": \"\",\n",
        "        \"experience\": \"\",\n",
        "        \"skills\": \"\",\n",
        "        \"certification\": \"\",\n",
        "        \"achievement\": \"\"\n",
        "    }\n",
        "\n",
        "    Resume Text:\n",
        "    ============\n",
        "    '''\n",
        "\n"
      ]
    },
    {
      "cell_type": "markdown",
      "metadata": {
        "id": "UZuJWddp8W3i"
      },
      "source": [
        "### **Extracting the Structured Data using Llama model**"
      ]
    },
    {
      "cell_type": "code",
      "execution_count": 9,
      "metadata": {
        "id": "C1foQhfN6r1U"
      },
      "outputs": [],
      "source": [
        "\n",
        "def extract_resume_data(text):\n",
        "    prompt = get_prompt() + text\n",
        "\n",
        "    response = client.chat.completions.create(\n",
        "        model=\"llama3-70b-8192\",\n",
        "        messages=[{\"role\": \"user\", \"content\": prompt}]\n",
        "    )\n",
        "\n",
        "    content = response.choices[0].message.content\n",
        "\n",
        "    # Extract JSON from the response using regex\n",
        "    json_pattern = r'\\{.*\\}'\n",
        "    match = re.search(json_pattern, content, re.DOTALL)\n",
        "\n",
        "    json_content = match.group(0)\n",
        "    data = json.loads(json_content)\n",
        "\n",
        "    # Return both the DataFrame and JSON data\n",
        "    return pd.DataFrame(data.items(), columns=[\"Entities\", \"Value\"]), data\n"
      ]
    },
    {
      "cell_type": "code",
      "execution_count": 23,
      "metadata": {
        "id": "ES8hJZ5c6r1U",
        "outputId": "814a9025-e912-4265-e8f0-932c3802fd3a"
      },
      "outputs": [
        {
          "data": {
            "text/plain": [
              "(        Entities                                              Value\n",
              " 0           Name                                  CHARLES MCTURLAND\n",
              " 1       email_id                               cmcturland@email.com\n",
              " 2     mob_number                                     (123) 456-7890\n",
              " 3  qualification                           B.S. in Computer Science\n",
              " 4     experience                                           7+ years\n",
              " 5         skills  Python (Django), Javascript (NodeJS ReactJS, j...\n",
              " 6  certification                                                   \n",
              " 7    achievement  Boosting yearly revenue by $1.4M, improving pa...,\n",
              " {'Name': 'CHARLES MCTURLAND',\n",
              "  'email_id': 'cmcturland@email.com',\n",
              "  'mob_number': '(123) 456-7890',\n",
              "  'qualification': 'B.S. in Computer Science',\n",
              "  'experience': '7+ years',\n",
              "  'skills': 'Python (Django), Javascript (NodeJS ReactJS, jQuery), SQL (MySQL, PostgreSQL, NoSQL), HTML5/CSS, AWS, Unix, Git',\n",
              "  'certification': '',\n",
              "  'achievement': 'Boosting yearly revenue by $1.4M, improving page speed by 15%, increasing efficiency by 18%, improving CTR by 3%, increasing contributions by 12%'})"
            ]
          },
          "execution_count": 23,
          "metadata": {},
          "output_type": "execute_result"
        }
      ],
      "source": [
        "extract_resume_data(extract_from_pdf(\"sample_resumes/software-engineer-resume-example.pdf\"))"
      ]
    },
    {
      "cell_type": "code",
      "execution_count": 12,
      "metadata": {
        "id": "es5McHIG6r1V"
      },
      "outputs": [],
      "source": [
        "def get_job_description_prompt():\n",
        "    return '''Extract the following details from the job description in the exact JSON format below.\n",
        "    Do not include any other text except the JSON. If a field is missing or unknown, use an empty string (\"\").\n",
        "\n",
        "    Expected JSON format:\n",
        "    {\n",
        "        \"required_skills\": \"\",\n",
        "        \"experience\": \"\",\n",
        "        \"qualification\": \"\",\n",
        "        \"certification\": \"\"\n",
        "    }\n",
        "\n",
        "    Job Description:\n",
        "    ============\n",
        "\n",
        "    '''\n"
      ]
    },
    {
      "cell_type": "code",
      "execution_count": 13,
      "metadata": {
        "id": "K0Iu-Hh96r1V"
      },
      "outputs": [],
      "source": [
        "def extract_job_description(text):\n",
        "    prompt = get_job_description_prompt() + text\n",
        "\n",
        "    response = client.chat.completions.create(\n",
        "        model=\"llama3-70b-8192\",\n",
        "        messages=[{\"role\": \"user\", \"content\": prompt}]\n",
        "    )\n",
        "\n",
        "    content = response.choices[0].message.content\n",
        "    json_pattern = r'\\{.*\\}'\n",
        "    match = re.search(json_pattern, content, re.DOTALL)\n",
        "\n",
        "    json_content = match.group(0)\n",
        "    data = json.loads(json_content)\n",
        "\n",
        "\n",
        "    return pd.DataFrame(data.items(), columns=[\"Entities\", \"Value\"]), data"
      ]
    },
    {
      "cell_type": "code",
      "execution_count": 14,
      "metadata": {
        "id": "Wbt-s45o6r1W"
      },
      "outputs": [],
      "source": [
        "def clean_text(text):\n",
        "    # Replace multiple spaces or newlines with a single space\n",
        "    cleaned_text = re.sub(r'\\s+', ' ', text)\n",
        "    cleaned_text = cleaned_text.strip()\n",
        "    return cleaned_text"
      ]
    },
    {
      "cell_type": "code",
      "execution_count": 15,
      "metadata": {
        "id": "PGZL8Ar16r1W"
      },
      "outputs": [],
      "source": [
        "jd = \"We are looking for a highly skilled Software Engineer with experience in full-stack development. The ideal candidate will be responsible for building and maintaining web applications, working across both front-end and back-end technologies, and collaborating with cross-functional teams to deliver high-quality solutions. with knowledge of mysql also , with 5+ years of experience. candidate  must have done bachelors\""
      ]
    },
    {
      "cell_type": "code",
      "execution_count": 16,
      "metadata": {
        "id": "UQexyaH56r1W",
        "outputId": "9b97acad-a2db-481d-e01a-6da119585bf6"
      },
      "outputs": [
        {
          "data": {
            "text/plain": [
              "'We are looking for a highly skilled Software Engineer with experience in full-stack development. The ideal candidate will be responsible for building and maintaining web applications, working across both front-end and back-end technologies, and collaborating with cross-functional teams to deliver high-quality solutions. with knowledge of mysql also , with 5+ years of experience. candidate must have done bachelors'"
            ]
          },
          "execution_count": 16,
          "metadata": {},
          "output_type": "execute_result"
        }
      ],
      "source": [
        "clean_text(jd)"
      ]
    },
    {
      "cell_type": "code",
      "execution_count": 17,
      "metadata": {
        "id": "ErcgiSZT6r1X",
        "outputId": "3c44dea5-e354-47a7-e7a0-65a2ad31ce32"
      },
      "outputs": [
        {
          "data": {
            "text/plain": [
              "(          Entities                          Value\n",
              " 0  required_skills  full-stack development, mysql\n",
              " 1       experience                       5+ years\n",
              " 2    qualification                      bachelors\n",
              " 3    certification                               ,\n",
              " {'required_skills': 'full-stack development, mysql',\n",
              "  'experience': '5+ years',\n",
              "  'qualification': 'bachelors',\n",
              "  'certification': ''})"
            ]
          },
          "execution_count": 17,
          "metadata": {},
          "output_type": "execute_result"
        }
      ],
      "source": [
        "extract_job_description(jd)"
      ]
    },
    {
      "cell_type": "markdown",
      "metadata": {
        "id": "hUzIUK0k6r1X"
      },
      "source": [
        "### **spaCy Language Model**"
      ]
    },
    {
      "cell_type": "code",
      "execution_count": 18,
      "metadata": {
        "id": "jpMLKzzP6r1X"
      },
      "outputs": [],
      "source": [
        "nlp = spacy.load(\"en_core_web_md\")"
      ]
    },
    {
      "cell_type": "markdown",
      "metadata": {},
      "source": [
        "resume_data.json and job_description.json are the structured format files formed by extracting the data from resume and job description. This process is done in the working streamlit application. At present default details are stored. Run the streamlit application."
      ]
    },
    {
      "cell_type": "code",
      "execution_count": 19,
      "metadata": {
        "id": "t9YEi7Z56r1X"
      },
      "outputs": [],
      "source": [
        "def rank_resumes(resume_file=\"resume_data.json\", job_desc_file=\"job_description.json\"):\n",
        "    \n",
        "    with open(resume_file, \"r\") as rf:\n",
        "        resume_data = json.load(rf)\n",
        "\n",
        "    with open(job_desc_file, \"r\") as jf:\n",
        "        job_desc_data = json.load(jf)\n",
        "\n",
        "    # Extract relevant fields from the job description\n",
        "    job_skills = job_desc_data.get(\"required_skills\", \"\")\n",
        "    job_experience = job_desc_data.get(\"experience\", \"\")\n",
        "    job_qualification = job_desc_data.get(\"qualification\", \"\")\n",
        "\n",
        "    # Convert job description fields to spaCy docs\n",
        "    job_doc = nlp(f\"Skills: {job_skills}, Experience: {job_experience}, Qualification: {job_qualification}\")\n",
        "\n",
        "    ranked_resumes = []\n",
        "\n",
        "    # Iterate through each resume and calculate similarity score\n",
        "    for resume in resume_data:\n",
        "        resume_name = resume[\"file_name\"]\n",
        "        resume_skills = resume[\"resume_data\"].get(\"skills\", \"\")\n",
        "        resume_experience = resume[\"resume_data\"].get(\"experience\", \"\")\n",
        "        resume_qualification = resume[\"resume_data\"].get(\"qualification\", \"\")\n",
        "\n",
        "        resume_doc = nlp(f\"Skills: {resume_skills}, Experience: {resume_experience}, Qualification: {resume_qualification}\")\n",
        "\n",
        "        # Calculate similarity between resume and job description\n",
        "        similarity_score = job_doc.similarity(resume_doc)\n",
        "        ranked_resumes.append({\n",
        "            \"file_name\": resume_name,\n",
        "            \"similarity_score\": similarity_score,\n",
        "            \"skills\": resume_skills,\n",
        "            \"experience\": resume_experience,\n",
        "            \"qualification\": resume_qualification\n",
        "        })\n",
        "\n",
        "    # Sort resumes based on similarity score\n",
        "    ranked_resumes = sorted(ranked_resumes, key=lambda x: x[\"similarity_score\"], reverse=True)\n",
        "\n",
        "    # Return ranked resumes\n",
        "    return ranked_resumes"
      ]
    },
    {
      "cell_type": "code",
      "execution_count": 20,
      "metadata": {
        "id": "jJhunutE6r1Y",
        "outputId": "0b1bebcd-21f6-46b7-c510-1f1205b23df3"
      },
      "outputs": [
        {
          "name": "stdout",
          "output_type": "stream",
          "text": [
            "**Rank 1: marketing specialist.pdf**\n",
            "**Similarity Score:** 0.87\n",
            "**Rank 2: Dasariraju_Deepak_BMU.pdf**\n",
            "**Similarity Score:** 0.85\n",
            "**Rank 3: designer.pdf**\n",
            "**Similarity Score:** 0.80\n",
            "**Rank 4: Teacher.pdf**\n",
            "**Similarity Score:** 0.78\n"
          ]
        }
      ],
      "source": [
        "ranked_resumes = rank_resumes(\"resume_data.json\", \"job_description.json\")\n",
        "for rank, resume in enumerate(ranked_resumes, 1):\n",
        "    print(f\"**Rank {rank}: {resume['file_name']}**\")\n",
        "    print(f\"**Similarity Score:** {resume['similarity_score']:.2f}\")"
      ]
    },
    {
      "cell_type": "markdown",
      "metadata": {},
      "source": [
        " streamlit run app.py \n",
        " \n",
        " to run the application"
      ]
    },
    {
      "cell_type": "code",
      "execution_count": null,
      "metadata": {
        "id": "0HKcR8FA6r1Y"
      },
      "outputs": [],
      "source": []
    },
    {
      "cell_type": "code",
      "execution_count": null,
      "metadata": {},
      "outputs": [],
      "source": []
    }
  ],
  "metadata": {
    "colab": {
      "provenance": []
    },
    "kernelspec": {
      "display_name": "Python 3",
      "language": "python",
      "name": "python3"
    },
    "language_info": {
      "codemirror_mode": {
        "name": "ipython",
        "version": 3
      },
      "file_extension": ".py",
      "mimetype": "text/x-python",
      "name": "python",
      "nbconvert_exporter": "python",
      "pygments_lexer": "ipython3",
      "version": "3.10.11"
    }
  },
  "nbformat": 4,
  "nbformat_minor": 0
}
